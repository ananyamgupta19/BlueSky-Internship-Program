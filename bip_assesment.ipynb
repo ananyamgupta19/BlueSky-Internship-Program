{
  "nbformat": 4,
  "nbformat_minor": 0,
  "metadata": {
    "colab": {
      "provenance": []
    },
    "kernelspec": {
      "name": "python3",
      "display_name": "Python 3"
    },
    "language_info": {
      "name": "python"
    }
  },
  "cells": [
    {
      "cell_type": "code",
      "execution_count": 67,
      "metadata": {
        "colab": {
          "base_uri": "https://localhost:8080/"
        },
        "id": "sQhRdRQXyUfp",
        "outputId": "ecc99652-2950-4ba0-b56a-a4d9aa7c3e34"
      },
      "outputs": [
        {
          "output_type": "stream",
          "name": "stdout",
          "text": [
            "<class 'dict'>\n"
          ]
        }
      ],
      "source": [
        "import json\n",
        "\n",
        "with open('py_challange_input.json') as json_data:\n",
        "    d = json.load(json_data)\n",
        "    print(type(d))"
      ]
    },
    {
      "cell_type": "code",
      "source": [
        "for i in range(0,3):\n",
        "  for j in range(0,2):\n",
        "    for k in range(0,4):\n",
        "      x={\"match_id\":[],\"livestream_provider\":[],\"winner_of_the_match\":[],\"region_name\":[],\"match_link\":[],\"team1\":[],\"team2\":[],\"start_time\":[]}\n",
        "      x['match_id']=d['Cricket'][0]['formats'][j]['regions'][i]['matches'][k]['id']\n",
        "      x['livestream_provider']=d['Cricket'][0]['formats'][j]['regions'][i]['matches'][k]['streaming']['liveStream']['provider']\n",
        "      x['winner_of_the_match']=d['Cricket'][0]['formats'][j]['regions'][i]['matches'][k][\"results\"]['winner']\n",
        "      x['region_name']=d['Cricket'][0]['formats'][j]['regions'][i]['name']\n",
        "      x['match_link']=d['Cricket'][0]['formats'][j]['regions'][i]['matches'][k]['httpLink']\n",
        "      x['team1']=d['Cricket'][0]['formats'][j]['regions'][i]['matches'][k]['team1']\n",
        "      x['team2']=d['Cricket'][0]['formats'][j]['regions'][i]['matches'][k]['team2']\n",
        "      x['start_time']=d['Cricket'][0]['formats'][j]['regions'][i]['matches'][k]['startTime']\n",
        "      with open('final_matches.json','a') as file:\n",
        "        file.write(json.dumps(x,indent=4))"
      ],
      "metadata": {
        "id": "Wn-G33OOC1Mo"
      },
      "execution_count": 68,
      "outputs": []
    }
  ]
}