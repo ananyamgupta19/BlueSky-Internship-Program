{
  "nbformat": 4,
  "nbformat_minor": 0,
  "metadata": {
    "colab": {
      "provenance": []
    },
    "kernelspec": {
      "name": "python3",
      "display_name": "Python 3"
    },
    "language_info": {
      "name": "python"
    }
  },
  "cells": [
    {
      "cell_type": "code",
      "execution_count": 3,
      "metadata": {
        "id": "8FqjkPMh-sL8"
      },
      "outputs": [],
      "source": [
        "# Python program to demonstrate\n",
        "# Conversion of JSON data to\n",
        "# dictionary\n",
        "# importing the module\n",
        "\n",
        "import json\n",
        " "
      ]
    },
    {
      "cell_type": "code",
      "source": [
        "with open('py_challange_input.json') as json_file:\n",
        "\n",
        "    data = json.load(json_file)\n",
        "\n",
        "    print(\"\\nmatches:\", data['Cricket'][0])\n"
      ],
      "metadata": {
        "colab": {
          "base_uri": "https://localhost:8080/"
        },
        "id": "o6l2YpgJAK5v",
        "outputId": "7cf13e1c-f1e8-4e97-a292-18682d0d473e"
      },
      "execution_count": 28,
      "outputs": [
        {
          "output_type": "stream",
          "name": "stdout",
          "text": [
            "\n",
            "matches: {'formats': [{'formatName': 'T20', 'formatDayType': 'Half day match', 'regions': [{'id': 666, 'name': 'north', 'isInternational': False, 'matches': [{'id': 6038, 'startTime': 1629944520, 'team1': 'T1', 'team2': 'T2', 'venue': 'V1', 'streaming': {'liveStream': {'provider': 'north-sky', 'channel': '001'}}, 'results': {'winner': 'T2', 'points': 2, 'resultsWithheld': False}, 'httpLink': 'cric/t20/north/t1vst2/v1/6038', 'isInternational': False}, {'id': 6039, 'startTime': 1629944520, 'team1': 'T2', 'team2': 'T3', 'venue': 'V2', 'streaming': {'liveStream': {'provider': 'north-sky', 'channel': '002'}}, 'results': {'winner': 'T2', 'points': 2, 'resultsWithheld': False}, 'httpLink': 'cric/t20/north/t2vst3/v2/6039', 'isInternational': False}, {'id': 6040, 'startTime': 1629944520, 'team1': 'T3', 'team2': 'T4', 'venue': 'V3', 'streaming': {'liveStream': {'provider': 'north-sky', 'channel': '003'}}, 'results': {'winner': 'T4', 'points': 2, 'resultsWithheld': False}, 'httpLink': 'cric/t20/north/t3vst4/v3/6040', 'isInternational': False}, {'id': 6041, 'startTime': 1629944520, 'team1': 'T4', 'team2': 'T1', 'venue': 'V4', 'streaming': {'liveStream': {'provider': 'north-sky', 'channel': '004'}}, 'results': {'winner': '', 'points': 0, 'resultsWithheld': True}, 'httpLink': 'cric/t20/north/t4vst1/v4/6041', 'isInternational': False}]}, {'id': 777, 'name': 'south', 'isInternational': False, 'streamingAvailable': False, 'matches': [{'id': 7038, 'startTime': 1629944520, 'team1': 'T5', 'team2': 'T6', 'venue': 'V5', 'streaming': {'liveStream': {'provider': 'south-sky', 'channel': '101'}}, 'results': {'winner': 'T6', 'points': 2, 'resultsWithheld': False}, 'httpLink': 'cric/t20/south/t5vst6/v5/7038', 'isInternational': False}, {'id': 7039, 'startTime': 1629944520, 'team1': 'T6', 'team2': 'T7', 'venue': 'V6', 'streaming': {'liveStream': {'provider': 'south-sky', 'channel': '102'}}, 'results': {'winner': '', 'points': 0, 'resultsWithheld': True}, 'httpLink': 'cric/t20/south/t6vst7/v6/7039', 'isInternational': False}, {'id': 7040, 'startTime': 1629944520, 'team1': 'T7', 'team2': 'T8', 'venue': 'V7', 'streaming': {'liveStream': {'provider': 'south-sky', 'channel': '103'}}, 'results': {'winner': 'T8', 'points': 2, 'resultsWithheld': False}, 'httpLink': 'cric/t20/south/t7vst8/v7/7040', 'isInternational': False}, {'id': 7041, 'startTime': 1629944520, 'team1': 'T8', 'team2': 'T5', 'venue': 'V8', 'streaming': {'liveStream': {'provider': 'south-sky', 'channel': '104'}}, 'results': {'winner': 'T8', 'points': 2, 'resultsWithheld': False}, 'httpLink': 'cric/t20/south/t8vst5/v8/7041', 'isInternational': False}]}, {'id': 888, 'name': 'central', 'isInternational': False, 'streamingAvailable': False, 'matches': [{'id': 8038, 'startTime': 1629944520, 'team1': 'T10', 'team2': 'T11', 'venue': 'V10', 'streaming': {'liveStream': {'provider': 'central-sky', 'channel': '201'}}, 'results': {'winner': 'T10', 'points': 2, 'resultsWithheld': False}, 'httpLink': 'cric/t20/central/t10vst11/v10/8038', 'isInternational': False}, {'id': 8039, 'startTime': 1629944520, 'team1': 'T11', 'team2': 'T12', 'venue': 'V11', 'streaming': {'liveStream': {'provider': 'central-sky', 'channel': '202'}}, 'results': {'winner': 'T12', 'points': 2, 'resultsWithheld': False}, 'httpLink': 'cric/t20/central/t11vst12/v11/8039', 'isInternational': False}, {'id': 8040, 'startTime': 1629944520, 'team1': 'T12', 'team2': 'T13', 'venue': 'V12', 'streaming': {'liveStream': {'provider': 'central-sky', 'channel': '203'}}, 'results': {'winner': 'T12', 'points': 2, 'resultsWithheld': False}, 'httpLink': 'cric/t20/central/t12vst13/v12/8040', 'isInternational': False}, {'id': 8041, 'startTime': 1629944520, 'team1': 'T13', 'team2': 'T10', 'venue': 'V13', 'streaming': {'liveStream': {'provider': 'central-sky', 'channel': '204'}}, 'results': {'winner': 'T10', 'points': 2, 'resultsWithheld': False}, 'httpLink': 'cric/t20/central/t13vst10/v13/8041', 'isInternational': False}]}]}, {'formatName': 'ODI', 'formatDayType': 'One day match', 'regions': [{'id': 999, 'name': 'NewZealand', 'isInternational': True, 'matches': [{'id': 16038, 'startTime': 1629944520, 'team1': 'T1', 'team2': 'T2', 'venue': 'NZ-V1', 'streaming': {'liveStream': {'provider': 'nz-ez', 'channel': '001'}}, 'results': {'winner': 'T2', 'points': 4, 'resultsWithheld': False}, 'httpLink': 'cric/odi/nz/t1vst2/v1/16038', 'isInternational': True}, {'id': 16039, 'startTime': 1629944520, 'team1': 'T2', 'team2': 'T3', 'venue': 'NZ-V2', 'streaming': {'liveStream': {'provider': 'nz-ez', 'channel': '002'}}, 'results': {'winner': 'T2', 'points': 4, 'resultsWithheld': False}, 'httpLink': 'cric/odi/nz/t2vst3/v2/16039', 'isInternational': True}, {'id': 16040, 'startTime': 1629944520, 'team1': 'T3', 'team2': 'T4', 'venue': 'NZ-V3', 'streaming': {'liveStream': {'provider': 'nz-ez', 'channel': '003'}}, 'results': {'winner': 'T4', 'points': 4, 'resultsWithheld': False}, 'httpLink': 'cric/odi/nz/t3vst4/v3/16040', 'isInternational': True}, {'id': 16041, 'startTime': 1629944520, 'team1': 'T4', 'team2': 'T1', 'venue': 'NZ-V4', 'streaming': {'liveStream': {'provider': 'nz-ez', 'channel': '004'}}, 'results': {'winner': 'T1', 'points': 4, 'resultsWithheld': False}, 'httpLink': 'cric/odi/nz/t4vst1/v4/16041', 'isInternational': True}]}, {'id': 777, 'name': 'south', 'isInternational': False, 'streamingAvailable': False, 'matches': [{'id': 17038, 'startTime': 1629944520, 'team1': 'T5', 'team2': 'T6', 'venue': 'V5', 'streaming': {'liveStream': {'provider': 'south-sky', 'channel': '101'}}, 'results': {'winner': 'T5', 'points': 4, 'resultsWithheld': False}, 'httpLink': 'cric/t20/south/t5vst6/v5/17038', 'isInternational': False}, {'id': 17039, 'startTime': 1629944520, 'team1': 'T6', 'team2': 'T7', 'venue': 'V6', 'streaming': {'liveStream': {'provider': 'south-sky', 'channel': '102'}}, 'results': {'winner': 'T6', 'points': 4, 'resultsWithheld': False}, 'httpLink': 'cric/t20/south/t6vst7/v6/17039', 'isInternational': False}, {'id': 17040, 'startTime': 1629944520, 'team1': 'T7', 'team2': 'T8', 'venue': 'V7', 'streaming': {'liveStream': {'provider': 'south-sky', 'channel': '103'}}, 'results': {'winner': '', 'points': 0, 'resultsWithheld': True}, 'httpLink': 'cric/t20/south/t7vst8/v7/17040', 'isInternational': False}, {'id': 17041, 'startTime': 1629944520, 'team1': 'T8', 'team2': 'T5', 'venue': 'V8', 'streaming': {'liveStream': {'provider': 'south-sky', 'channel': '104'}}, 'results': {'winner': 'T8', 'points': 4, 'resultsWithheld': False}, 'httpLink': 'cric/t20/south/t8vst5/v8/17041', 'isInternational': False}]}, {'id': 888, 'name': 'central', 'isInternational': False, 'matches': [{'id': 18038, 'startTime': 1629944520, 'team1': 'T10', 'team2': 'T11', 'venue': 'V10', 'streaming': {'liveStream': {'provider': 'central-sky', 'channel': '201'}}, 'results': {'winner': 'T10', 'points': 4, 'resultsWithheld': False}, 'streamingAvailable': False, 'availableStreamingType': None, 'httpLink': 'cric/t20/central/t10vst11/v10/18038', 'isInternational': False}, {'id': 18039, 'startTime': 1629944520, 'team1': 'T11', 'team2': 'T12', 'venue': 'V11', 'streaming': {'liveStream': {'provider': 'central-sky', 'channel': '202'}}, 'results': {'winner': 'T12', 'points': 4, 'resultsWithheld': False}, 'streamingAvailable': False, 'availableStreamingType': None, 'httpLink': 'cric/t20/central/t11vst12/v11/18039', 'isInternational': False}, {'id': 18040, 'startTime': 1629944520, 'team1': 'T12', 'team2': 'T13', 'venue': 'V12', 'streaming': {'liveStream': {'provider': 'central-sky', 'channel': '203'}}, 'results': {'winner': 'T12', 'points': 4, 'resultsWithheld': False}, 'streamingAvailable': False, 'availableStreamingType': None, 'httpLink': 'cric/t20/central/t12vst13/v12/18040', 'isInternational': False}, {'id': 18041, 'startTime': 1629944520, 'team1': 'T13', 'team2': 'T10', 'venue': 'V13', 'streaming': {'liveStream': {'provider': 'central-sky', 'channel': '204'}}, 'results': {'winner': 'T10', 'points': 4, 'resultsWithheld': False}, 'streamingAvailable': False, 'availableStreamingType': None, 'httpLink': 'cric/t20/central/t13vst10/v13/18041', 'isInternational': False}]}]}]}\n"
          ]
        }
      ]
    },
    {
      "cell_type": "code",
      "source": [
        " print(\"\\nPrinting nested dictionary as a key-value pair\\n\")\n",
        "a=data['Cricket'][0]\n",
        "b=a['formats']"
      ],
      "metadata": {
        "colab": {
          "base_uri": "https://localhost:8080/"
        },
        "id": "I7csv8ovBuvw",
        "outputId": "9e506233-0a0b-4220-ab12-1db78f94ce0a"
      },
      "execution_count": 38,
      "outputs": [
        {
          "output_type": "stream",
          "name": "stdout",
          "text": [
            "\n",
            "Printing nested dictionary as a key-value pair\n",
            "\n"
          ]
        }
      ]
    },
    {
      "cell_type": "code",
      "source": [
        "print(\"\\matches in region 1\",b[0]['regions'][0]['matches'][0:] )"
      ],
      "metadata": {
        "colab": {
          "base_uri": "https://localhost:8080/"
        },
        "id": "rZVl6NVtShl-",
        "outputId": "7e3f8b1e-3a79-4659-983b-48477a928a76"
      },
      "execution_count": 43,
      "outputs": [
        {
          "output_type": "stream",
          "name": "stdout",
          "text": [
            "\\matches in region 1 [{'id': 6038, 'startTime': 1629944520, 'team1': 'T1', 'team2': 'T2', 'venue': 'V1', 'streaming': {'liveStream': {'provider': 'north-sky', 'channel': '001'}}, 'results': {'winner': 'T2', 'points': 2, 'resultsWithheld': False}, 'httpLink': 'cric/t20/north/t1vst2/v1/6038', 'isInternational': False}, {'id': 6039, 'startTime': 1629944520, 'team1': 'T2', 'team2': 'T3', 'venue': 'V2', 'streaming': {'liveStream': {'provider': 'north-sky', 'channel': '002'}}, 'results': {'winner': 'T2', 'points': 2, 'resultsWithheld': False}, 'httpLink': 'cric/t20/north/t2vst3/v2/6039', 'isInternational': False}, {'id': 6040, 'startTime': 1629944520, 'team1': 'T3', 'team2': 'T4', 'venue': 'V3', 'streaming': {'liveStream': {'provider': 'north-sky', 'channel': '003'}}, 'results': {'winner': 'T4', 'points': 2, 'resultsWithheld': False}, 'httpLink': 'cric/t20/north/t3vst4/v3/6040', 'isInternational': False}, {'id': 6041, 'startTime': 1629944520, 'team1': 'T4', 'team2': 'T1', 'venue': 'V4', 'streaming': {'liveStream': {'provider': 'north-sky', 'channel': '004'}}, 'results': {'winner': '', 'points': 0, 'resultsWithheld': True}, 'httpLink': 'cric/t20/north/t4vst1/v4/6041', 'isInternational': False}]\n"
          ]
        }
      ]
    },
    {
      "cell_type": "code",
      "source": [
        "print(\"\\matches in region 2\",b[0]['regions'][1]['matches'][0:] )"
      ],
      "metadata": {
        "colab": {
          "base_uri": "https://localhost:8080/"
        },
        "id": "_GK-a0PyBIRJ",
        "outputId": "900629be-e85b-42c0-ffd7-77ed42da4a71"
      },
      "execution_count": 45,
      "outputs": [
        {
          "output_type": "stream",
          "name": "stdout",
          "text": [
            "\\matches in region 2 [{'id': 7038, 'startTime': 1629944520, 'team1': 'T5', 'team2': 'T6', 'venue': 'V5', 'streaming': {'liveStream': {'provider': 'south-sky', 'channel': '101'}}, 'results': {'winner': 'T6', 'points': 2, 'resultsWithheld': False}, 'httpLink': 'cric/t20/south/t5vst6/v5/7038', 'isInternational': False}, {'id': 7039, 'startTime': 1629944520, 'team1': 'T6', 'team2': 'T7', 'venue': 'V6', 'streaming': {'liveStream': {'provider': 'south-sky', 'channel': '102'}}, 'results': {'winner': '', 'points': 0, 'resultsWithheld': True}, 'httpLink': 'cric/t20/south/t6vst7/v6/7039', 'isInternational': False}, {'id': 7040, 'startTime': 1629944520, 'team1': 'T7', 'team2': 'T8', 'venue': 'V7', 'streaming': {'liveStream': {'provider': 'south-sky', 'channel': '103'}}, 'results': {'winner': 'T8', 'points': 2, 'resultsWithheld': False}, 'httpLink': 'cric/t20/south/t7vst8/v7/7040', 'isInternational': False}, {'id': 7041, 'startTime': 1629944520, 'team1': 'T8', 'team2': 'T5', 'venue': 'V8', 'streaming': {'liveStream': {'provider': 'south-sky', 'channel': '104'}}, 'results': {'winner': 'T8', 'points': 2, 'resultsWithheld': False}, 'httpLink': 'cric/t20/south/t8vst5/v8/7041', 'isInternational': False}]\n"
          ]
        }
      ]
    },
    {
      "cell_type": "code",
      "source": [
        "print(\"\\matches in region 3\",b[0]['regions'][2]['matches'][0:] )"
      ],
      "metadata": {
        "colab": {
          "base_uri": "https://localhost:8080/"
        },
        "id": "VBtzMqtXUiHf",
        "outputId": "91df957a-8d3c-4088-fa2c-40ce8efc450c"
      },
      "execution_count": 46,
      "outputs": [
        {
          "output_type": "stream",
          "name": "stdout",
          "text": [
            "\\matches in region 3 [{'id': 8038, 'startTime': 1629944520, 'team1': 'T10', 'team2': 'T11', 'venue': 'V10', 'streaming': {'liveStream': {'provider': 'central-sky', 'channel': '201'}}, 'results': {'winner': 'T10', 'points': 2, 'resultsWithheld': False}, 'httpLink': 'cric/t20/central/t10vst11/v10/8038', 'isInternational': False}, {'id': 8039, 'startTime': 1629944520, 'team1': 'T11', 'team2': 'T12', 'venue': 'V11', 'streaming': {'liveStream': {'provider': 'central-sky', 'channel': '202'}}, 'results': {'winner': 'T12', 'points': 2, 'resultsWithheld': False}, 'httpLink': 'cric/t20/central/t11vst12/v11/8039', 'isInternational': False}, {'id': 8040, 'startTime': 1629944520, 'team1': 'T12', 'team2': 'T13', 'venue': 'V12', 'streaming': {'liveStream': {'provider': 'central-sky', 'channel': '203'}}, 'results': {'winner': 'T12', 'points': 2, 'resultsWithheld': False}, 'httpLink': 'cric/t20/central/t12vst13/v12/8040', 'isInternational': False}, {'id': 8041, 'startTime': 1629944520, 'team1': 'T13', 'team2': 'T10', 'venue': 'V13', 'streaming': {'liveStream': {'provider': 'central-sky', 'channel': '204'}}, 'results': {'winner': 'T10', 'points': 2, 'resultsWithheld': False}, 'httpLink': 'cric/t20/central/t13vst10/v13/8041', 'isInternational': False}]\n"
          ]
        }
      ]
    },
    {
      "cell_type": "code",
      "source": [
        "print(\"\\matches in ODI format\",b[1]['regions'][0]['matches'][0:] )"
      ],
      "metadata": {
        "colab": {
          "base_uri": "https://localhost:8080/"
        },
        "id": "qLryW9qyUogT",
        "outputId": "2a224703-7a9a-4d0f-9e7e-e77eff11746e"
      },
      "execution_count": 47,
      "outputs": [
        {
          "output_type": "stream",
          "name": "stdout",
          "text": [
            "\\matches in ODI format [{'id': 16038, 'startTime': 1629944520, 'team1': 'T1', 'team2': 'T2', 'venue': 'NZ-V1', 'streaming': {'liveStream': {'provider': 'nz-ez', 'channel': '001'}}, 'results': {'winner': 'T2', 'points': 4, 'resultsWithheld': False}, 'httpLink': 'cric/odi/nz/t1vst2/v1/16038', 'isInternational': True}, {'id': 16039, 'startTime': 1629944520, 'team1': 'T2', 'team2': 'T3', 'venue': 'NZ-V2', 'streaming': {'liveStream': {'provider': 'nz-ez', 'channel': '002'}}, 'results': {'winner': 'T2', 'points': 4, 'resultsWithheld': False}, 'httpLink': 'cric/odi/nz/t2vst3/v2/16039', 'isInternational': True}, {'id': 16040, 'startTime': 1629944520, 'team1': 'T3', 'team2': 'T4', 'venue': 'NZ-V3', 'streaming': {'liveStream': {'provider': 'nz-ez', 'channel': '003'}}, 'results': {'winner': 'T4', 'points': 4, 'resultsWithheld': False}, 'httpLink': 'cric/odi/nz/t3vst4/v3/16040', 'isInternational': True}, {'id': 16041, 'startTime': 1629944520, 'team1': 'T4', 'team2': 'T1', 'venue': 'NZ-V4', 'streaming': {'liveStream': {'provider': 'nz-ez', 'channel': '004'}}, 'results': {'winner': 'T1', 'points': 4, 'resultsWithheld': False}, 'httpLink': 'cric/odi/nz/t4vst1/v4/16041', 'isInternational': True}]\n"
          ]
        }
      ]
    },
    {
      "cell_type": "code",
      "source": [
        "c=b[1]['regions'][1]['matches'][0]\n",
        "print(\"\\matches in ODI format\",b[1]['regions'][1]['matches'][0:] )"
      ],
      "metadata": {
        "colab": {
          "base_uri": "https://localhost:8080/"
        },
        "id": "DQ-8DDcCUvV2",
        "outputId": "624954cd-f040-4d7b-ae2f-99ef2ae928e4"
      },
      "execution_count": 55,
      "outputs": [
        {
          "output_type": "stream",
          "name": "stdout",
          "text": [
            "\\matches in region 1 [{'id': 17038, 'startTime': 1629944520, 'team1': 'T5', 'team2': 'T6', 'venue': 'V5', 'streaming': {'liveStream': {'provider': 'south-sky', 'channel': '101'}}, 'results': {'winner': 'T5', 'points': 4, 'resultsWithheld': False}, 'httpLink': 'cric/t20/south/t5vst6/v5/17038', 'isInternational': False}, {'id': 17039, 'startTime': 1629944520, 'team1': 'T6', 'team2': 'T7', 'venue': 'V6', 'streaming': {'liveStream': {'provider': 'south-sky', 'channel': '102'}}, 'results': {'winner': 'T6', 'points': 4, 'resultsWithheld': False}, 'httpLink': 'cric/t20/south/t6vst7/v6/17039', 'isInternational': False}, {'id': 17040, 'startTime': 1629944520, 'team1': 'T7', 'team2': 'T8', 'venue': 'V7', 'streaming': {'liveStream': {'provider': 'south-sky', 'channel': '103'}}, 'results': {'winner': '', 'points': 0, 'resultsWithheld': True}, 'httpLink': 'cric/t20/south/t7vst8/v7/17040', 'isInternational': False}, {'id': 17041, 'startTime': 1629944520, 'team1': 'T8', 'team2': 'T5', 'venue': 'V8', 'streaming': {'liveStream': {'provider': 'south-sky', 'channel': '104'}}, 'results': {'winner': 'T8', 'points': 4, 'resultsWithheld': False}, 'httpLink': 'cric/t20/south/t8vst5/v8/17041', 'isInternational': False}]\n"
          ]
        }
      ]
    },
    {
      "cell_type": "code",
      "source": [
        "print(\"matches in ODI format,match id,livestream,winner,httplink,teams   :\",c['id'],c['streaming']['liveStream'],c[\"results\"]['winner'],c['httpLink'],c['team1'],c['team2'])"
      ],
      "metadata": {
        "colab": {
          "base_uri": "https://localhost:8080/"
        },
        "id": "QDm2dKQpVnW7",
        "outputId": "ede87fa6-4fa3-4c23-b0e7-1398b262ded1"
      },
      "execution_count": 75,
      "outputs": [
        {
          "output_type": "stream",
          "name": "stdout",
          "text": [
            "matches in ODI format,match id,livestream,winner,httplink,teams   : 17038 {'provider': 'south-sky', 'channel': '101'} T5 cric/t20/south/t5vst6/v5/17038 T5 T6\n"
          ]
        }
      ]
    }
  ]
}